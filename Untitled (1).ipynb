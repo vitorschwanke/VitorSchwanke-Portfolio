{
 "cells": [
  {
   "cell_type": "code",
   "execution_count": 1,
   "id": "1f7e9a0f",
   "metadata": {},
   "outputs": [],
   "source": [
    "import math \n",
    "import numpy as np\n",
    "import pandas as pd\n",
    "import matplotlib.pyplot as plt\n",
    "from scipy import stats\n",
    "from sklearn.model_selection import train_test_split\n",
    "from sklearn.linear_model import LogisticRegression\n",
    "from sklearn.svm import SVC\n",
    "from sklearn.metrics import accuracy_score"
   ]
  },
  {
   "cell_type": "markdown",
   "id": "59081889",
   "metadata": {},
   "source": [
    "# Exploratory analysis, Visualization and Prediction."
   ]
  },
  {
   "cell_type": "markdown",
   "id": "a1158b42",
   "metadata": {},
   "source": [
    "## Read Datasets"
   ]
  },
  {
   "cell_type": "code",
   "execution_count": 2,
   "id": "9404fab7",
   "metadata": {},
   "outputs": [],
   "source": [
    "wineds = pd.read_csv('wine_quality.csv')\n",
    "covidds = pd.read_csv('Covid-19 Australia.csv')"
   ]
  },
  {
   "cell_type": "markdown",
   "id": "3f8c9a4b",
   "metadata": {},
   "source": [
    "## Task 1 - Exploratory Data Analysis"
   ]
  },
  {
   "cell_type": "code",
   "execution_count": 3,
   "id": "27c2ecb5",
   "metadata": {
    "scrolled": true
   },
   "outputs": [
    {
     "data": {
      "text/html": [
       "<div>\n",
       "<style scoped>\n",
       "    .dataframe tbody tr th:only-of-type {\n",
       "        vertical-align: middle;\n",
       "    }\n",
       "\n",
       "    .dataframe tbody tr th {\n",
       "        vertical-align: top;\n",
       "    }\n",
       "\n",
       "    .dataframe thead th {\n",
       "        text-align: right;\n",
       "    }\n",
       "</style>\n",
       "<table border=\"1\" class=\"dataframe\">\n",
       "  <thead>\n",
       "    <tr style=\"text-align: right;\">\n",
       "      <th></th>\n",
       "      <th>date</th>\n",
       "      <th>case</th>\n",
       "      <th>death</th>\n",
       "    </tr>\n",
       "  </thead>\n",
       "  <tbody>\n",
       "    <tr>\n",
       "      <th>0</th>\n",
       "      <td>1/1/2020</td>\n",
       "      <td>0</td>\n",
       "      <td>0</td>\n",
       "    </tr>\n",
       "    <tr>\n",
       "      <th>1</th>\n",
       "      <td>1/2/2020</td>\n",
       "      <td>0</td>\n",
       "      <td>0</td>\n",
       "    </tr>\n",
       "    <tr>\n",
       "      <th>2</th>\n",
       "      <td>1/3/2020</td>\n",
       "      <td>0</td>\n",
       "      <td>0</td>\n",
       "    </tr>\n",
       "    <tr>\n",
       "      <th>3</th>\n",
       "      <td>1/4/2020</td>\n",
       "      <td>0</td>\n",
       "      <td>0</td>\n",
       "    </tr>\n",
       "    <tr>\n",
       "      <th>4</th>\n",
       "      <td>1/5/2020</td>\n",
       "      <td>0</td>\n",
       "      <td>0</td>\n",
       "    </tr>\n",
       "    <tr>\n",
       "      <th>...</th>\n",
       "      <td>...</td>\n",
       "      <td>...</td>\n",
       "      <td>...</td>\n",
       "    </tr>\n",
       "    <tr>\n",
       "      <th>233</th>\n",
       "      <td>8/21/2020</td>\n",
       "      <td>243</td>\n",
       "      <td>13</td>\n",
       "    </tr>\n",
       "    <tr>\n",
       "      <th>234</th>\n",
       "      <td>8/22/2020</td>\n",
       "      <td>171</td>\n",
       "      <td>9</td>\n",
       "    </tr>\n",
       "    <tr>\n",
       "      <th>235</th>\n",
       "      <td>8/23/2020</td>\n",
       "      <td>195</td>\n",
       "      <td>13</td>\n",
       "    </tr>\n",
       "    <tr>\n",
       "      <th>236</th>\n",
       "      <td>8/24/2020</td>\n",
       "      <td>210</td>\n",
       "      <td>17</td>\n",
       "    </tr>\n",
       "    <tr>\n",
       "      <th>237</th>\n",
       "      <td>8/25/2020</td>\n",
       "      <td>104</td>\n",
       "      <td>15</td>\n",
       "    </tr>\n",
       "  </tbody>\n",
       "</table>\n",
       "<p>238 rows × 3 columns</p>\n",
       "</div>"
      ],
      "text/plain": [
       "          date  case  death\n",
       "0     1/1/2020     0      0\n",
       "1     1/2/2020     0      0\n",
       "2     1/3/2020     0      0\n",
       "3     1/4/2020     0      0\n",
       "4     1/5/2020     0      0\n",
       "..         ...   ...    ...\n",
       "233  8/21/2020   243     13\n",
       "234  8/22/2020   171      9\n",
       "235  8/23/2020   195     13\n",
       "236  8/24/2020   210     17\n",
       "237  8/25/2020   104     15\n",
       "\n",
       "[238 rows x 3 columns]"
      ]
     },
     "execution_count": 3,
     "metadata": {},
     "output_type": "execute_result"
    }
   ],
   "source": [
    "covidds"
   ]
  },
  {
   "cell_type": "markdown",
   "id": "214a2162",
   "metadata": {},
   "source": [
    "## Mean Max and Min"
   ]
  },
  {
   "cell_type": "code",
   "execution_count": 4,
   "id": "918b66c3",
   "metadata": {},
   "outputs": [
    {
     "name": "stdout",
     "output_type": "stream",
     "text": [
      "Case Mean:  104.6890756302521\n",
      "Case Max:  721\n",
      "Case Min:  0\n",
      "Death Mean:  2.172268907563025\n",
      "Death Max:  25\n",
      "Death Min:  0\n"
     ]
    }
   ],
   "source": [
    "cmean = covidds['case'].mean()\n",
    "cmax = covidds['case'].max()\n",
    "cmin = covidds['case'].min()\n",
    "dmean = covidds['death'].mean()\n",
    "dmax = covidds['death'].max()\n",
    "dmin = covidds['death'].min()\n",
    "\n",
    "print('Case Mean: ', cmean)\n",
    "print('Case Max: ', cmax)\n",
    "print('Case Min: ', cmin)\n",
    "print('Death Mean: ', dmean)\n",
    "print('Death Max: ', dmax)\n",
    "print('Death Min: ', dmin)"
   ]
  },
  {
   "cell_type": "markdown",
   "id": "6f46ca82",
   "metadata": {},
   "source": [
    "## Scatterplot Cases x Deaths "
   ]
  },
  {
   "cell_type": "markdown",
   "id": "b7f1e9c7",
   "metadata": {},
   "source": [
    "Create a scatterplot of Number of Cases x Number of Deaths. "
   ]
  },
  {
   "cell_type": "code",
   "execution_count": 5,
   "id": "4d73ce39",
   "metadata": {},
   "outputs": [
    {
     "data": {
      "text/plain": [
       "<function matplotlib.pyplot.show(close=None, block=None)>"
      ]
     },
     "execution_count": 5,
     "metadata": {},
     "output_type": "execute_result"
    },
    {
     "data": {
      "image/png": "[encoded data removed]",
      "text/plain": [
       "<Figure size 640x480 with 1 Axes>"
      ]
     },
     "metadata": {},
     "output_type": "display_data"
    }
   ],
   "source": [
    "x = covidds['case']\n",
    "y = covidds['death']\n",
    "\n",
    "plt.scatter(x, y, color = 'blue', alpha=0.5)\n",
    "plt.xlabel('Total Cases')\n",
    "plt.ylabel('Total Deaths')\n",
    "plt.title ('Cases vs Deaths Scatterplot')\n",
    "plt.show"
   ]
  },
  {
   "cell_type": "markdown",
   "id": "91c13ead",
   "metadata": {},
   "source": [
    "## Barchart Date x Cases"
   ]
  },
  {
   "cell_type": "markdown",
   "id": "37402e9d",
   "metadata": {},
   "source": [
    "Creating a barchart to analyze The Date (Day of the Month) x Number of Cases in that day. "
   ]
  },
  {
   "cell_type": "code",
   "execution_count": 6,
   "id": "df0b49c2",
   "metadata": {
    "scrolled": true
   },
   "outputs": [
    {
     "data": {
      "image/png": "[encoded data removed]",
      "text/plain": [
       "<Figure size 1000x600 with 1 Axes>"
      ]
     },
     "metadata": {},
     "output_type": "display_data"
    }
   ],
   "source": [
    "# Convert 'date' column to datetime data type\n",
    "covidds['date'] = pd.to_datetime(covidds['date'])\n",
    "\n",
    "covidds['month'] = covidds['date'].dt.month\n",
    "\n",
    "\n",
    "monthly_cases = covidds.groupby('month')['case'].sum()\n",
    "\n",
    "# Plot bar chart\n",
    "plt.figure(figsize=(10, 6))\n",
    "monthly_cases.plot(kind='bar')\n",
    "plt.xlabel('Month')\n",
    "plt.ylabel('Total number of Cases')\n",
    "plt.title('Total number of COVID-19 Cases by Month')\n",
    "plt.xticks(rotation=0)\n",
    "plt.tight_layout()\n",
    "plt.show()"
   ]
  },
  {
   "cell_type": "markdown",
   "id": "155f143c",
   "metadata": {},
   "source": [
    "### Conclusion: Through the analysis of the developed charts, it is possible to conclude that the scatter plot shows a positive correlation between COVID-19 cases and deaths, with increasing variability as cases rise, including a few outlier data points. The bar chart indicates peaks in cases during months 3 and 4, followed by a decline in months 5 and 6, and a subsequent increase in months 7 and 8."
   ]
  },
  {
   "cell_type": "markdown",
   "id": "b236193d",
   "metadata": {},
   "source": [
    "## Task 2 - Regression Analysis"
   ]
  },
  {
   "cell_type": "code",
   "execution_count": 7,
   "id": "65a5bbe6",
   "metadata": {},
   "outputs": [
    {
     "data": {
      "image/png": "[encoded data removed]",
      "text/plain": [
       "<Figure size 640x480 with 1 Axes>"
      ]
     },
     "metadata": {},
     "output_type": "display_data"
    }
   ],
   "source": [
    "x = covidds['case']\n",
    "y = covidds['death']\n",
    "\n",
    "slope, intercept, r, p, std_error = stats.linregress(x,y)\n",
    "def myfunc(x):\n",
    "    return slope * x + intercept\n",
    "\n",
    "mymodel = list(map(myfunc, x))\n",
    "\n",
    "# Plot data and regression line\n",
    "plt.scatter(x, y)\n",
    "plt.plot(x, mymodel, color='red')\n",
    "plt.xlabel('Total number of Cases')\n",
    "plt.ylabel('Total number of Deaths')\n",
    "plt.title('Linear Regression: Cases vs Deaths')\n",
    "plt.show()"
   ]
  },
  {
   "cell_type": "markdown",
   "id": "02d4b1e7",
   "metadata": {},
   "source": [
    "### Death prediction when cases hit 1000"
   ]
  },
  {
   "cell_type": "code",
   "execution_count": 8,
   "id": "f7f782fe",
   "metadata": {},
   "outputs": [
    {
     "name": "stdout",
     "output_type": "stream",
     "text": [
      "Predicted deaths when cases = 1000: 17.555446943805773\n"
     ]
    }
   ],
   "source": [
    "cases = 1000\n",
    "predicted_deaths = myfunc(cases)\n",
    "print(\"Predicted deaths when cases = 1000:\", predicted_deaths)"
   ]
  },
  {
   "cell_type": "markdown",
   "id": "d339f063",
   "metadata": {},
   "source": [
    "## Polynomial Regression Models"
   ]
  },
  {
   "cell_type": "code",
   "execution_count": 9,
   "id": "48453400",
   "metadata": {},
   "outputs": [
    {
     "data": {
      "image/png": "[encoded data removed]",
      "text/plain": [
       "<Figure size 640x480 with 1 Axes>"
      ]
     },
     "metadata": {},
     "output_type": "display_data"
    }
   ],
   "source": [
    "x = np.array(covidds['case'])\n",
    "y = np.array(covidds['death'])\n",
    "\n",
    "plt.scatter(x, y, label='Original Data')\n",
    "\n",
    "degrees = [2, 3, 4, 5]\n",
    "\n",
    "for degree in degrees:\n",
    "    mymodel = np.poly1d(np.polyfit(x, y, degree))\n",
    "    myline = np.linspace(min(x), max(x), 100)\n",
    "    plt.plot(myline, mymodel(myline), label=f'Degree {degree}')\n",
    "\n",
    "plt.xlabel('Total number of Cases')\n",
    "plt.ylabel('Total number of Deaths')\n",
    "plt.title('Polynomial Regression Models')\n",
    "plt.legend()\n",
    "plt.show()\n"
   ]
  },
  {
   "cell_type": "markdown",
   "id": "f86781ce",
   "metadata": {},
   "source": [
    "### Conclusion: Observing the plotted polynomial regression model is possible to conclude, through visual analysis, that the Degree 4 slope is the one which better fits the model, as it is not overfitting or underfitting, as others are."
   ]
  },
  {
   "cell_type": "markdown",
   "id": "38cffa72",
   "metadata": {},
   "source": [
    "## Task 3 - Classification "
   ]
  },
  {
   "cell_type": "code",
   "execution_count": 10,
   "id": "78fb85c6",
   "metadata": {},
   "outputs": [
    {
     "data": {
      "text/html": [
       "<div>\n",
       "<style scoped>\n",
       "    .dataframe tbody tr th:only-of-type {\n",
       "        vertical-align: middle;\n",
       "    }\n",
       "\n",
       "    .dataframe tbody tr th {\n",
       "        vertical-align: top;\n",
       "    }\n",
       "\n",
       "    .dataframe thead th {\n",
       "        text-align: right;\n",
       "    }\n",
       "</style>\n",
       "<table border=\"1\" class=\"dataframe\">\n",
       "  <thead>\n",
       "    <tr style=\"text-align: right;\">\n",
       "      <th></th>\n",
       "      <th>fixed acidity</th>\n",
       "      <th>volatile acidity</th>\n",
       "      <th>citric acid</th>\n",
       "      <th>residual sugar</th>\n",
       "      <th>chlorides</th>\n",
       "      <th>free sulfur dioxide</th>\n",
       "      <th>total sulfur dioxide</th>\n",
       "      <th>density</th>\n",
       "      <th>pH</th>\n",
       "      <th>sulphates</th>\n",
       "      <th>alcohol</th>\n",
       "      <th>quality</th>\n",
       "      <th>Id</th>\n",
       "    </tr>\n",
       "  </thead>\n",
       "  <tbody>\n",
       "    <tr>\n",
       "      <th>0</th>\n",
       "      <td>7.4</td>\n",
       "      <td>0.700</td>\n",
       "      <td>0.00</td>\n",
       "      <td>1.9</td>\n",
       "      <td>0.076</td>\n",
       "      <td>11.0</td>\n",
       "      <td>34.0</td>\n",
       "      <td>0.99780</td>\n",
       "      <td>3.51</td>\n",
       "      <td>0.56</td>\n",
       "      <td>9.4</td>\n",
       "      <td>5</td>\n",
       "      <td>0</td>\n",
       "    </tr>\n",
       "    <tr>\n",
       "      <th>1</th>\n",
       "      <td>7.8</td>\n",
       "      <td>0.880</td>\n",
       "      <td>0.00</td>\n",
       "      <td>2.6</td>\n",
       "      <td>0.098</td>\n",
       "      <td>25.0</td>\n",
       "      <td>67.0</td>\n",
       "      <td>0.99680</td>\n",
       "      <td>3.20</td>\n",
       "      <td>0.68</td>\n",
       "      <td>9.8</td>\n",
       "      <td>5</td>\n",
       "      <td>1</td>\n",
       "    </tr>\n",
       "    <tr>\n",
       "      <th>2</th>\n",
       "      <td>7.8</td>\n",
       "      <td>0.760</td>\n",
       "      <td>0.04</td>\n",
       "      <td>2.3</td>\n",
       "      <td>0.092</td>\n",
       "      <td>15.0</td>\n",
       "      <td>54.0</td>\n",
       "      <td>0.99700</td>\n",
       "      <td>3.26</td>\n",
       "      <td>0.65</td>\n",
       "      <td>9.8</td>\n",
       "      <td>5</td>\n",
       "      <td>2</td>\n",
       "    </tr>\n",
       "    <tr>\n",
       "      <th>3</th>\n",
       "      <td>11.2</td>\n",
       "      <td>0.280</td>\n",
       "      <td>0.56</td>\n",
       "      <td>1.9</td>\n",
       "      <td>0.075</td>\n",
       "      <td>17.0</td>\n",
       "      <td>60.0</td>\n",
       "      <td>0.99800</td>\n",
       "      <td>3.16</td>\n",
       "      <td>0.58</td>\n",
       "      <td>9.8</td>\n",
       "      <td>6</td>\n",
       "      <td>3</td>\n",
       "    </tr>\n",
       "    <tr>\n",
       "      <th>4</th>\n",
       "      <td>7.4</td>\n",
       "      <td>0.700</td>\n",
       "      <td>0.00</td>\n",
       "      <td>1.9</td>\n",
       "      <td>0.076</td>\n",
       "      <td>11.0</td>\n",
       "      <td>34.0</td>\n",
       "      <td>0.99780</td>\n",
       "      <td>3.51</td>\n",
       "      <td>0.56</td>\n",
       "      <td>9.4</td>\n",
       "      <td>5</td>\n",
       "      <td>4</td>\n",
       "    </tr>\n",
       "    <tr>\n",
       "      <th>...</th>\n",
       "      <td>...</td>\n",
       "      <td>...</td>\n",
       "      <td>...</td>\n",
       "      <td>...</td>\n",
       "      <td>...</td>\n",
       "      <td>...</td>\n",
       "      <td>...</td>\n",
       "      <td>...</td>\n",
       "      <td>...</td>\n",
       "      <td>...</td>\n",
       "      <td>...</td>\n",
       "      <td>...</td>\n",
       "      <td>...</td>\n",
       "    </tr>\n",
       "    <tr>\n",
       "      <th>1138</th>\n",
       "      <td>6.3</td>\n",
       "      <td>0.510</td>\n",
       "      <td>0.13</td>\n",
       "      <td>2.3</td>\n",
       "      <td>0.076</td>\n",
       "      <td>29.0</td>\n",
       "      <td>40.0</td>\n",
       "      <td>0.99574</td>\n",
       "      <td>3.42</td>\n",
       "      <td>0.75</td>\n",
       "      <td>11.0</td>\n",
       "      <td>6</td>\n",
       "      <td>1592</td>\n",
       "    </tr>\n",
       "    <tr>\n",
       "      <th>1139</th>\n",
       "      <td>6.8</td>\n",
       "      <td>0.620</td>\n",
       "      <td>0.08</td>\n",
       "      <td>1.9</td>\n",
       "      <td>0.068</td>\n",
       "      <td>28.0</td>\n",
       "      <td>38.0</td>\n",
       "      <td>0.99651</td>\n",
       "      <td>3.42</td>\n",
       "      <td>0.82</td>\n",
       "      <td>9.5</td>\n",
       "      <td>6</td>\n",
       "      <td>1593</td>\n",
       "    </tr>\n",
       "    <tr>\n",
       "      <th>1140</th>\n",
       "      <td>6.2</td>\n",
       "      <td>0.600</td>\n",
       "      <td>0.08</td>\n",
       "      <td>2.0</td>\n",
       "      <td>0.090</td>\n",
       "      <td>32.0</td>\n",
       "      <td>44.0</td>\n",
       "      <td>0.99490</td>\n",
       "      <td>3.45</td>\n",
       "      <td>0.58</td>\n",
       "      <td>10.5</td>\n",
       "      <td>5</td>\n",
       "      <td>1594</td>\n",
       "    </tr>\n",
       "    <tr>\n",
       "      <th>1141</th>\n",
       "      <td>5.9</td>\n",
       "      <td>0.550</td>\n",
       "      <td>0.10</td>\n",
       "      <td>2.2</td>\n",
       "      <td>0.062</td>\n",
       "      <td>39.0</td>\n",
       "      <td>51.0</td>\n",
       "      <td>0.99512</td>\n",
       "      <td>3.52</td>\n",
       "      <td>0.76</td>\n",
       "      <td>11.2</td>\n",
       "      <td>6</td>\n",
       "      <td>1595</td>\n",
       "    </tr>\n",
       "    <tr>\n",
       "      <th>1142</th>\n",
       "      <td>5.9</td>\n",
       "      <td>0.645</td>\n",
       "      <td>0.12</td>\n",
       "      <td>2.0</td>\n",
       "      <td>0.075</td>\n",
       "      <td>32.0</td>\n",
       "      <td>44.0</td>\n",
       "      <td>0.99547</td>\n",
       "      <td>3.57</td>\n",
       "      <td>0.71</td>\n",
       "      <td>10.2</td>\n",
       "      <td>5</td>\n",
       "      <td>1597</td>\n",
       "    </tr>\n",
       "  </tbody>\n",
       "</table>\n",
       "<p>1143 rows × 13 columns</p>\n",
       "</div>"
      ],
      "text/plain": [
       "      fixed acidity  volatile acidity  citric acid  residual sugar  chlorides  \\\n",
       "0               7.4             0.700         0.00             1.9      0.076   \n",
       "1               7.8             0.880         0.00             2.6      0.098   \n",
       "2               7.8             0.760         0.04             2.3      0.092   \n",
       "3              11.2             0.280         0.56             1.9      0.075   \n",
       "4               7.4             0.700         0.00             1.9      0.076   \n",
       "...             ...               ...          ...             ...        ...   \n",
       "1138            6.3             0.510         0.13             2.3      0.076   \n",
       "1139            6.8             0.620         0.08             1.9      0.068   \n",
       "1140            6.2             0.600         0.08             2.0      0.090   \n",
       "1141            5.9             0.550         0.10             2.2      0.062   \n",
       "1142            5.9             0.645         0.12             2.0      0.075   \n",
       "\n",
       "      free sulfur dioxide  total sulfur dioxide  density    pH  sulphates  \\\n",
       "0                    11.0                  34.0  0.99780  3.51       0.56   \n",
       "1                    25.0                  67.0  0.99680  3.20       0.68   \n",
       "2                    15.0                  54.0  0.99700  3.26       0.65   \n",
       "3                    17.0                  60.0  0.99800  3.16       0.58   \n",
       "4                    11.0                  34.0  0.99780  3.51       0.56   \n",
       "...                   ...                   ...      ...   ...        ...   \n",
       "1138                 29.0                  40.0  0.99574  3.42       0.75   \n",
       "1139                 28.0                  38.0  0.99651  3.42       0.82   \n",
       "1140                 32.0                  44.0  0.99490  3.45       0.58   \n",
       "1141                 39.0                  51.0  0.99512  3.52       0.76   \n",
       "1142                 32.0                  44.0  0.99547  3.57       0.71   \n",
       "\n",
       "      alcohol  quality    Id  \n",
       "0         9.4        5     0  \n",
       "1         9.8        5     1  \n",
       "2         9.8        5     2  \n",
       "3         9.8        6     3  \n",
       "4         9.4        5     4  \n",
       "...       ...      ...   ...  \n",
       "1138     11.0        6  1592  \n",
       "1139      9.5        6  1593  \n",
       "1140     10.5        5  1594  \n",
       "1141     11.2        6  1595  \n",
       "1142     10.2        5  1597  \n",
       "\n",
       "[1143 rows x 13 columns]"
      ]
     },
     "execution_count": 10,
     "metadata": {},
     "output_type": "execute_result"
    }
   ],
   "source": [
    "wineds"
   ]
  },
  {
   "cell_type": "code",
   "execution_count": 11,
   "id": "6b540abc",
   "metadata": {},
   "outputs": [],
   "source": [
    "X = wineds.drop(columns=['quality'])\n",
    "y = wineds['quality']"
   ]
  },
  {
   "cell_type": "code",
   "execution_count": 12,
   "id": "765fcce4",
   "metadata": {},
   "outputs": [],
   "source": [
    "X_train, X_test, y_train, y_test = train_test_split(X, y, test_size=0.5, random_state=12)\n"
   ]
  },
  {
   "cell_type": "code",
   "execution_count": 13,
   "id": "3197cb02",
   "metadata": {},
   "outputs": [],
   "source": [
    "def train_and_evaluate(classifier, features):\n",
    "    classifier.fit(X_train[features], y_train)\n",
    "    \n",
    "   \n",
    "    y_pred = classifier.predict(X_test[features])\n",
    "    \n",
    "   \n",
    "    accuracy = accuracy_score(y_test, y_pred)\n",
    "    \n",
    "    return accuracy\n"
   ]
  },
  {
   "cell_type": "code",
   "execution_count": 14,
   "id": "4eadcae7",
   "metadata": {},
   "outputs": [],
   "source": [
    "log_reg_classifier = LogisticRegression(max_iter=15000)\n",
    "svm_classifier = SVC()"
   ]
  },
  {
   "cell_type": "code",
   "execution_count": 15,
   "id": "96cf5e39",
   "metadata": {},
   "outputs": [],
   "source": [
    "\n",
    "feature_sets = {\n",
    "    \"Fixed acidity\": ['fixed acidity'],\n",
    "    \"Volatile acidity\": ['volatile acidity'],\n",
    "    \"Citric acid\": ['citric acid'],\n",
    "    \"Residual sugar\": ['residual sugar'],\n",
    "    \"Fixed acidity + Volatile acidity + Citric acid + Residual sugar + Chlorides\": ['fixed acidity', 'volatile acidity', 'citric acid', 'residual sugar', 'chlorides'],\n",
    "    \"All features\": X.columns.tolist()\n",
    "}"
   ]
  },
  {
   "cell_type": "code",
   "execution_count": 16,
   "id": "54850fc8",
   "metadata": {},
   "outputs": [
    {
     "name": "stderr",
     "output_type": "stream",
     "text": [
      "/Users/vitorschwanke/opt/anaconda3/lib/python3.9/site-packages/sklearn/linear_model/_logistic.py:814: ConvergenceWarning: lbfgs failed to converge (status=1):\n",
      "STOP: TOTAL NO. of f AND g EVALUATIONS EXCEEDS LIMIT.\n",
      "\n",
      "Increase the number of iterations (max_iter) or scale the data as shown in:\n",
      "    https://scikit-learn.org/stable/modules/preprocessing.html\n",
      "Please also refer to the documentation for alternative solver options:\n",
      "    https://scikit-learn.org/stable/modules/linear_model.html#logistic-regression\n",
      "  n_iter_i = _check_optimize_result(\n"
     ]
    }
   ],
   "source": [
    "results = {}\n",
    "for feature_name, feature_list in feature_sets.items():\n",
    "    # Logistic Regression\n",
    "    log_reg_accuracy = train_and_evaluate(log_reg_classifier, feature_list)\n",
    "    \n",
    "    # Support Vector Machine\n",
    "    svm_accuracy = train_and_evaluate(svm_classifier, feature_list)\n",
    "    \n",
    "    results[feature_name] = {\"Logistic Regression\": log_reg_accuracy, \"Support Vector Machine\": svm_accuracy}\n"
   ]
  },
  {
   "cell_type": "code",
   "execution_count": 17,
   "id": "f9a85901",
   "metadata": {},
   "outputs": [
    {
     "name": "stdout",
     "output_type": "stream",
     "text": [
      "Testing accuracies:\n",
      "                                                    Logistic Regression  \\\n",
      "Fixed acidity                                                  0.451049   \n",
      "Volatile acidity                                               0.484266   \n",
      "Citric acid                                                    0.444056   \n",
      "Residual sugar                                                 0.417832   \n",
      "Fixed acidity + Volatile acidity + Citric acid ...             0.510490   \n",
      "All features                                                   0.578671   \n",
      "\n",
      "                                                    Support Vector Machine  \n",
      "Fixed acidity                                                     0.461538  \n",
      "Volatile acidity                                                  0.494755  \n",
      "Citric acid                                                       0.438811  \n",
      "Residual sugar                                                    0.417832  \n",
      "Fixed acidity + Volatile acidity + Citric acid ...                0.440559  \n",
      "All features                                                      0.447552  \n"
     ]
    }
   ],
   "source": [
    "\n",
    "print(\"Testing accuracies:\")\n",
    "print(pd.DataFrame(results).T)\n"
   ]
  },
  {
   "cell_type": "code",
   "execution_count": null,
   "id": "a92c7fd9",
   "metadata": {},
   "outputs": [],
   "source": []
  },
  {
   "cell_type": "code",
   "execution_count": null,
   "id": "c49e9771",
   "metadata": {},
   "outputs": [],
   "source": []
  }
 ],
 "metadata": {
  "kernelspec": {
   "display_name": "Python 3 (ipykernel)",
   "language": "python",
   "name": "python3"
  },
  "language_info": {
   "codemirror_mode": {
    "name": "ipython",
    "version": 3
   },
   "file_extension": ".py",
   "mimetype": "text/x-python",
   "name": "python",
   "nbconvert_exporter": "python",
   "pygments_lexer": "ipython3",
   "version": "3.9.13"
  }
 },
 "nbformat": 4,
 "nbformat_minor": 5
}
